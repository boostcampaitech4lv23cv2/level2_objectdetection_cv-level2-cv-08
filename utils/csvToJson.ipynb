{
 "cells": [
  {
   "cell_type": "code",
   "execution_count": 73,
   "metadata": {},
   "outputs": [],
   "source": [
    "import os\n",
    "import json\n",
    "import pandas as pd\n",
    "\n",
    "from pycocotools.coco import COCO"
   ]
  },
  {
   "cell_type": "code",
   "execution_count": 74,
   "metadata": {},
   "outputs": [
    {
     "name": "stdout",
     "output_type": "stream",
     "text": [
      "loading annotations into memory...\n",
      "Done (t=0.27s)\n",
      "creating index...\n",
      "index created!\n"
     ]
    }
   ],
   "source": [
    "json_path = './dataset/test.json'\n",
    "coco = COCO(json_path)\n",
    "\n",
    "# json load\n",
    "with open(json_path) as f: coco_json = json.load(f)\n",
    "\n",
    "# submission csv -> dataframe\n",
    "data = pd.read_csv('./submission.csv')\n"
   ]
  },
  {
   "cell_type": "code",
   "execution_count": 75,
   "metadata": {},
   "outputs": [
    {
     "name": "stdout",
     "output_type": "stream",
     "text": [
      "non pred\n",
      "non pred\n",
      "non pred\n",
      "non pred\n",
      "non pred\n"
     ]
    }
   ],
   "source": [
    "images = []\n",
    "annotations = []\n",
    "anno_cnt = 0\n",
    "for i in range(len(data)):\n",
    "    PredictionString, image_id  = data.iloc[i]\n",
    "    file_num = int(os.path.basename(image_id).split('.')[0])\n",
    "    \n",
    "    # image\n",
    "    images.append(coco_json['images'][file_num])\n",
    "    \n",
    "    # annotation\n",
    "    try:\n",
    "        pred = PredictionString.split()\n",
    "    except:\n",
    "        print('non pred')\n",
    "    \n",
    "    for idx in range(0, len(pred), 6):\n",
    "        label = int(pred[idx])\n",
    "        score, x_min, y_min, x_max, y_max = map(float, pred[idx+1:idx+6])\n",
    "        annotations.append({\n",
    "            \"image_id\": file_num,\n",
    "            \"category_id\": label,\n",
    "            \"area\": round((x_max-x_min)*(y_max-y_min), 2),\n",
    "            \"bbox\": [\n",
    "                round(x_min, 1),\n",
    "                round(y_min, 1),\n",
    "                round(x_max-x_min, 1),\n",
    "                round(y_max-y_min, 1)\n",
    "            ],\n",
    "            \"iscrowd\": 0,\n",
    "            \"id\": anno_cnt\n",
    "        })\n",
    "        anno_cnt += 1\n",
    "    "
   ]
  },
  {
   "cell_type": "code",
   "execution_count": 76,
   "metadata": {},
   "outputs": [],
   "source": [
    "result = dict()\n",
    "result['info'] = coco_json['info']\n",
    "result['licenses'] = coco_json['licenses']\n",
    "result['categories'] = coco_json['categories']\n",
    "result['images'] = images\n",
    "result['annotations'] = annotations"
   ]
  },
  {
   "cell_type": "code",
   "execution_count": 77,
   "metadata": {},
   "outputs": [],
   "source": [
    "with open('csv2json.json', 'w') as outfile:\n",
    "    json.dump(result, outfile, indent=4)"
   ]
  },
  {
   "cell_type": "code",
   "execution_count": null,
   "metadata": {},
   "outputs": [],
   "source": []
  }
 ],
 "metadata": {
  "kernelspec": {
   "display_name": "Python 3.7.15 ('detection')",
   "language": "python",
   "name": "python3"
  },
  "language_info": {
   "codemirror_mode": {
    "name": "ipython",
    "version": 3
   },
   "file_extension": ".py",
   "mimetype": "text/x-python",
   "name": "python",
   "nbconvert_exporter": "python",
   "pygments_lexer": "ipython3",
   "version": "3.7.15"
  },
  "orig_nbformat": 4,
  "vscode": {
   "interpreter": {
    "hash": "b94c6de4bce9a87a354a5fa9998691adc0532adddb9d4140f5ba941d00b01fae"
   }
  }
 },
 "nbformat": 4,
 "nbformat_minor": 2
}
