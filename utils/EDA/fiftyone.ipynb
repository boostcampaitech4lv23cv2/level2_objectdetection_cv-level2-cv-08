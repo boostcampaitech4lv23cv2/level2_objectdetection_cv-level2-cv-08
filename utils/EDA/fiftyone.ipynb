{
 "cells": [
  {
   "cell_type": "markdown",
   "metadata": {},
   "source": [
    "pip install fiftyone\n",
    "\n",
    "- 새로 가상환경 생성 후 install 권장\n",
    "\n",
    "\n",
    "터미널에서\n",
    "\n",
    "```bash\n",
    "conda create -n \"이름\" python=3.8\n",
    "\n",
    "conda activate \"이름\"\n",
    "\n",
    "pip install fiftyone\n",
    "```"
   ]
  },
  {
   "cell_type": "code",
   "execution_count": null,
   "metadata": {},
   "outputs": [],
   "source": [
    "import fiftyone as fo"
   ]
  },
  {
   "cell_type": "code",
   "execution_count": null,
   "metadata": {},
   "outputs": [],
   "source": [
    "# 데이터세트 위치\n",
    "data_path = './dataset'\n",
    "# 확인하고자 하는 coco json 위치\n",
    "labels_path = './dataset/val_2.json'\n",
    "dataset = fo.Dataset.from_dir(\n",
    "    dataset_type=fo.types.COCODetectionDataset,\n",
    "    data_path=data_path,\n",
    "    labels_path=labels_path,\n",
    ")"
   ]
  },
  {
   "cell_type": "code",
   "execution_count": null,
   "metadata": {},
   "outputs": [],
   "source": [
    "dataset"
   ]
  },
  {
   "cell_type": "code",
   "execution_count": null,
   "metadata": {},
   "outputs": [],
   "source": [
    "# aistags 의 ssh port 번호, address\n",
    "session = fo.launch_app(dataset, port=30001, address='101.101.218.26')"
   ]
  }
 ],
 "metadata": {
  "kernelspec": {
   "display_name": "Python 3.8.15 ('fiftyone')",
   "language": "python",
   "name": "python3"
  },
  "language_info": {
   "codemirror_mode": {
    "name": "ipython",
    "version": 3
   },
   "file_extension": ".py",
   "mimetype": "text/x-python",
   "name": "python",
   "nbconvert_exporter": "python",
   "pygments_lexer": "ipython3",
   "version": "3.8.15"
  },
  "orig_nbformat": 4,
  "vscode": {
   "interpreter": {
    "hash": "27b8cbff4aadc5af5bb2aa4daf6f041c3a637521577bab8e36ec5de34d972eda"
   }
  }
 },
 "nbformat": 4,
 "nbformat_minor": 2
}
