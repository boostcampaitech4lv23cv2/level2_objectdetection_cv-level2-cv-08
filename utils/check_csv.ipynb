{
 "cells": [
  {
   "cell_type": "code",
   "execution_count": null,
   "metadata": {},
   "outputs": [],
   "source": [
    "import pandas as pd\n",
    "import numpy as np\n",
    "import mmcv"
   ]
  },
  {
   "cell_type": "code",
   "execution_count": null,
   "metadata": {},
   "outputs": [],
   "source": [
    "dir_path = './sample_submission/'\n",
    "file_name = 'faster_swin_L.csv'\n",
    "df = pd.read_csv(dir_path+file_name)"
   ]
  },
  {
   "cell_type": "code",
   "execution_count": null,
   "metadata": {},
   "outputs": [],
   "source": [
    "img_info = df[df['image_id']=='test/0047.jpg']\n",
    "\n",
    "classes = (\"General trash\", \"Paper\", \"Paper pack\", \"Metal\", \"Glass\", \n",
    "           \"Plastic\", \"Styrofoam\", \"Plastic bag\", \"Battery\", \"Clothing\")\n",
    "\n",
    "img_file_path='./dataset/'+img_info['image_id'].item()\n",
    "\n",
    "data=img_info['PredictionString'].item().split()\n",
    "l=len(data)\n",
    "bboxes=[]\n",
    "labels=[]\n",
    "scores=[]\n",
    "for i in range(l//6):\n",
    "    idx=i*6\n",
    "    bboxes.append([float(data[idx+2]), float(data[idx+3]), float(data[idx+4]), float(data[idx+5])])\n",
    "    labels.append(int(data[idx]))\n",
    "    scores.append(float(data[idx+1]))\n",
    "\n",
    "\n",
    "mmcv.imshow_det_bboxes(img_file_path,\n",
    "                        np.array(bboxes),\n",
    "                        np.array(labels),\n",
    "                        class_names = (\"General trash\", \"Paper\", \"Paper pack\", \"Metal\", \"Glass\", \"Plastic\", \"Styrofoam\", \"Plastic bag\", \"Battery\", \"Clothing\")\n",
    "                        )"
   ]
  },
  {
   "cell_type": "code",
   "execution_count": null,
   "metadata": {},
   "outputs": [],
   "source": []
  }
 ],
 "metadata": {
  "kernelspec": {
   "display_name": "Python 3.9.13 ('my_project')",
   "language": "python",
   "name": "python3"
  },
  "language_info": {
   "codemirror_mode": {
    "name": "ipython",
    "version": 3
   },
   "file_extension": ".py",
   "mimetype": "text/x-python",
   "name": "python",
   "nbconvert_exporter": "python",
   "pygments_lexer": "ipython3",
   "version": "3.9.13"
  },
  "orig_nbformat": 4,
  "vscode": {
   "interpreter": {
    "hash": "9f992dc107306b3a732e46b283e7d2a3b1285a33f2d32ee03f286f65949522cb"
   }
  }
 },
 "nbformat": 4,
 "nbformat_minor": 2
}
