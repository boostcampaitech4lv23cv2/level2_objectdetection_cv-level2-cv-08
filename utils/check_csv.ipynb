{
 "cells": [
  {
   "cell_type": "code",
   "execution_count": 34,
   "metadata": {},
   "outputs": [],
   "source": [
    "import pandas as pd\n",
    "import numpy as np\n",
    "import mmcv"
   ]
  },
  {
   "cell_type": "code",
   "execution_count": 25,
   "metadata": {},
   "outputs": [],
   "source": [
    "dir_path = './sample_submission/'\n",
    "file_name = 'faster_swin_L.csv'\n",
    "df = pd.read_csv(dir_path+file_name)"
   ]
  },
  {
   "cell_type": "code",
   "execution_count": 44,
   "metadata": {},
   "outputs": [
    {
     "data": {
      "text/plain": [
       "array([[[ 84,  98,  97],\n",
       "        [ 90, 104, 103],\n",
       "        [ 81,  95,  94],\n",
       "        ...,\n",
       "        [ 73, 102, 116],\n",
       "        [ 97, 126, 140],\n",
       "        [ 94, 123, 137]],\n",
       "\n",
       "       [[ 79,  93,  92],\n",
       "        [ 88, 102, 101],\n",
       "        [ 78,  92,  91],\n",
       "        ...,\n",
       "        [ 66,  95, 109],\n",
       "        [ 84, 113, 127],\n",
       "        [ 91, 120, 134]],\n",
       "\n",
       "       [[ 74,  88,  87],\n",
       "        [ 84,  98,  97],\n",
       "        [ 77,  91,  90],\n",
       "        ...,\n",
       "        [ 72, 101, 115],\n",
       "        [ 74, 103, 117],\n",
       "        [ 68,  97, 111]],\n",
       "\n",
       "       ...,\n",
       "\n",
       "       [[ 30,  37,  40],\n",
       "        [ 33,  40,  43],\n",
       "        [ 36,  43,  46],\n",
       "        ...,\n",
       "        [ 56,  67,  71],\n",
       "        [ 43,  54,  58],\n",
       "        [ 39,  50,  54]],\n",
       "\n",
       "       [[ 36,  43,  46],\n",
       "        [ 37,  44,  47],\n",
       "        [ 36,  43,  46],\n",
       "        ...,\n",
       "        [ 45,  56,  60],\n",
       "        [ 43,  54,  58],\n",
       "        [ 50,  61,  65]],\n",
       "\n",
       "       [[ 49,  56,  59],\n",
       "        [ 48,  55,  58],\n",
       "        [ 41,  48,  51],\n",
       "        ...,\n",
       "        [ 44,  55,  59],\n",
       "        [ 50,  61,  65],\n",
       "        [ 70,  81,  85]]], dtype=uint8)"
      ]
     },
     "execution_count": 44,
     "metadata": {},
     "output_type": "execute_result"
    },
    {
     "ename": "",
     "evalue": "",
     "output_type": "error",
     "traceback": [
      "\u001b[1;31m현재 셀 또는 이전 셀에서 코드를 실행하는 동안 Kernel이 충돌했습니다. 셀의 코드를 검토하여 오류의 가능한 원인을 식별하세요. 자세한 내용을 보려면 <a href='https://aka.ms/vscodeJupyterKernelCrash'> 여기 </a> 를 클릭하세요. 자세한 내용은 Jupyter <a href='command:jupyter.viewOutput'>로그</a>를 참조하세요."
     ]
    }
   ],
   "source": [
    "img_info = df[df['image_id']=='test/0047.jpg']\n",
    "\n",
    "classes = (\"General trash\", \"Paper\", \"Paper pack\", \"Metal\", \"Glass\", \n",
    "           \"Plastic\", \"Styrofoam\", \"Plastic bag\", \"Battery\", \"Clothing\")\n",
    "\n",
    "img_file_path='./dataset/'+img_info['image_id'].item()\n",
    "\n",
    "data=img_info['PredictionString'].item().split()\n",
    "l=len(data)\n",
    "bboxes=[]\n",
    "labels=[]\n",
    "scores=[]\n",
    "for i in range(l//6):\n",
    "    idx=i*6\n",
    "    bboxes.append([float(data[idx+2]), float(data[idx+3]), float(data[idx+4]), float(data[idx+5])])\n",
    "    labels.append(int(data[0]))\n",
    "    scores.append(float(data[1]))\n",
    "\n",
    "\n",
    "mmcv.imshow_det_bboxes(img_file_path,\n",
    "                        np.array(bboxes),\n",
    "                        np.array(labels),\n",
    "                        class_names = (\"General trash\", \"Paper\", \"Paper pack\", \"Metal\", \"Glass\", \"Plastic\", \"Styrofoam\", \"Plastic bag\", \"Battery\", \"Clothing\")\n",
    "                        )"
   ]
  },
  {
   "cell_type": "code",
   "execution_count": null,
   "metadata": {},
   "outputs": [],
   "source": []
  }
 ],
 "metadata": {
  "kernelspec": {
   "display_name": "Python 3.9.13 ('my_project')",
   "language": "python",
   "name": "python3"
  },
  "language_info": {
   "codemirror_mode": {
    "name": "ipython",
    "version": 3
   },
   "file_extension": ".py",
   "mimetype": "text/x-python",
   "name": "python",
   "nbconvert_exporter": "python",
   "pygments_lexer": "ipython3",
   "version": "3.9.13"
  },
  "orig_nbformat": 4,
  "vscode": {
   "interpreter": {
    "hash": "9f992dc107306b3a732e46b283e7d2a3b1285a33f2d32ee03f286f65949522cb"
   }
  }
 },
 "nbformat": 4,
 "nbformat_minor": 2
}
